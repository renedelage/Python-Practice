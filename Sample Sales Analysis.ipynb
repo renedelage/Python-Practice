{
 "cells": [
  {
   "cell_type": "markdown",
   "id": "f0f3b4c8-0639-4b80-a987-622611499cac",
   "metadata": {},
   "source": [
    "### 1. Prepare Data for Analysis"
   ]
  },
  {
   "cell_type": "code",
   "execution_count": null,
   "id": "4e74c478-6bb8-4633-8196-1fb2ab53f967",
   "metadata": {},
   "outputs": [],
   "source": [
    "import pandas as pd\n",
    "import numpy as np\n",
    "import seaborn as sns\n",
    "import matplotlib.pyplot as plt\n",
    "import scipy.stats as stats\n",
    "from sklearn.preprocessing import StandardScaler\n",
    "import plotly.express as px"
   ]
  },
  {
   "cell_type": "code",
   "execution_count": null,
   "id": "f1327791-62e6-4896-9fbd-4e52bcc181aa",
   "metadata": {},
   "outputs": [],
   "source": [
    "sales = pd.read_csv('Sales.csv')\n",
    "display(sales)"
   ]
  },
  {
   "cell_type": "code",
   "execution_count": null,
   "id": "7a349221-8b36-4a44-90d7-ceb1f8f06ef4",
   "metadata": {},
   "outputs": [],
   "source": [
    "sales.info()"
   ]
  },
  {
   "cell_type": "code",
   "execution_count": null,
   "id": "838535d6-baf7-44ab-b39b-96bbbe840d4c",
   "metadata": {},
   "outputs": [],
   "source": [
    "sales['State'].unique()"
   ]
  },
  {
   "cell_type": "code",
   "execution_count": null,
   "id": "3a6e9d86-49d7-46bc-b830-1c163430d51f",
   "metadata": {},
   "outputs": [],
   "source": [
    "sales['Group'].unique()"
   ]
  },
  {
   "cell_type": "code",
   "execution_count": null,
   "id": "65de5b8b-796a-47c2-9c7b-b52bbdf32469",
   "metadata": {},
   "outputs": [],
   "source": [
    "sales['Time'].unique()"
   ]
  },
  {
   "cell_type": "code",
   "execution_count": null,
   "id": "11c9cafc-4191-43a9-abb7-55e14975484f",
   "metadata": {},
   "outputs": [],
   "source": [
    "sales.describe()"
   ]
  },
  {
   "cell_type": "code",
   "execution_count": null,
   "id": "31e7a646-ea87-4122-842e-75db635fb621",
   "metadata": {},
   "outputs": [],
   "source": [
    "sales.corr(numeric_only=True)"
   ]
  },
  {
   "cell_type": "markdown",
   "id": "adfe825d-9d0b-4f3e-a8f6-c87355807ef6",
   "metadata": {},
   "source": [
    "# 2. Normalize the Data for Analysis"
   ]
  },
  {
   "cell_type": "code",
   "execution_count": null,
   "id": "22354eee-3edc-47fc-8a39-920a64333b34",
   "metadata": {},
   "outputs": [],
   "source": [
    "# This method didn't work for me as expected\n",
    "scaler = StandardScaler()\n",
    "sales_dataonly = sales[['Unit', 'Sales']]\n",
    "normalize_data= scaler.fit_transform(sales_dataonly)\n",
    "print(normalize_data)"
   ]
  },
  {
   "cell_type": "code",
   "execution_count": null,
   "id": "5f26796f-7cb6-416a-8a46-a9e9c00a02e5",
   "metadata": {},
   "outputs": [],
   "source": [
    "# Using alternative method to normalize and scale the date\n",
    "sales['ScaledUnits'] = (sales['Unit'] - sales['Unit'].min()) / (sales['Unit'].max() - sales['Unit'].min())\n",
    "sales['ScaledSales'] = (sales['Sales'] - sales['Sales'].min()) / (sales['Sales'].max() - sales['Sales'].min())\n",
    "display(sales[['Unit', 'ScaledUnits', 'Sales', 'ScaledSales']])\n",
    "print(f'The max Scaled Unit is {sales['ScaledUnits'].max()}; the min Scaled Unit is {sales['ScaledUnits'].min()}.')\n",
    "print(f'The max Scaled Sales is {sales['ScaledSales'].max()}; the min Scaled Sales is {sales['ScaledSales'].min()}.')"
   ]
  },
  {
   "cell_type": "markdown",
   "id": "a2222e86-454b-4b8c-9e68-e7cd8474db2a",
   "metadata": {},
   "source": [
    "### 3. Visualize Overall Trends"
   ]
  },
  {
   "cell_type": "code",
   "execution_count": null,
   "id": "7fb90f01-a239-4015-82d3-ae2d86593602",
   "metadata": {},
   "outputs": [],
   "source": [
    "sales['Date'] = pd.to_datetime(sales['Date'], format='%d-%b-%y')\n",
    "dated_sales = sales.set_index('Date')\n",
    "dated_sales"
   ]
  },
  {
   "cell_type": "code",
   "execution_count": null,
   "id": "7a0993a5-5e06-4152-9f14-58e297780b19",
   "metadata": {},
   "outputs": [],
   "source": [
    "weekly_sales = dated_sales.resample('7D')['Sales'].sum()\n",
    "weekly_units = dated_sales.resample('7D')['Unit'].sum()\n",
    "fig1 = px.line(weekly_sales, title='3-Month Timeline of Sales')\n",
    "fig1.show()\n",
    "fig2 = px.line(weekly_units, title='3-Month Timeline of Units Sold')\n",
    "fig2.show()"
   ]
  },
  {
   "cell_type": "markdown",
   "id": "dbcc0029-7a2c-4808-ad8f-0cae6a762ddd",
   "metadata": {},
   "source": [
    "### 4. Analyze Monthly Data"
   ]
  },
  {
   "cell_type": "code",
   "execution_count": null,
   "id": "fff9475c-e08a-4640-8292-7bc0a72dbbe4",
   "metadata": {},
   "outputs": [],
   "source": [
    "monthly_sales = dated_sales.resample('ME')['Sales'].sum()\n",
    "monthly_units = dated_sales.resample('ME')['Unit'].sum()\n",
    "display(monthly_sales)\n",
    "display(monthly_units)"
   ]
  },
  {
   "cell_type": "code",
   "execution_count": null,
   "id": "89596d80-a355-4f5a-88ff-9df903abc19f",
   "metadata": {},
   "outputs": [],
   "source": [
    "fig3 = px.bar(monthly_sales, title = 'Monthly Totals for Sales')\n",
    "fig3.show()\n",
    "fig4 = px.bar(monthly_units, title = 'Monthly Totals for Units Sold')\n",
    "fig4.show()"
   ]
  },
  {
   "cell_type": "markdown",
   "id": "d1767ed6-fa35-402b-964d-84713a6daef8",
   "metadata": {},
   "source": [
    "### 5. Describe Data"
   ]
  },
  {
   "cell_type": "code",
   "execution_count": null,
   "id": "f6ad05f5-980b-4b88-b23e-b1042cb68d17",
   "metadata": {},
   "outputs": [],
   "source": [
    "sales.describe()"
   ]
  },
  {
   "cell_type": "code",
   "execution_count": null,
   "id": "73269881-1d54-403d-9110-f8f4e3b49c29",
   "metadata": {},
   "outputs": [],
   "source": [
    "sales_oct = dated_sales[dated_sales.index.month == 10]\n",
    "sales_oct.describe()"
   ]
  },
  {
   "cell_type": "code",
   "execution_count": null,
   "id": "d7b54573-915e-40d6-87d8-0742d6f1eb7f",
   "metadata": {},
   "outputs": [],
   "source": [
    "sales_nov = dated_sales[dated_sales.index.month == 11]\n",
    "sales_nov.describe()"
   ]
  },
  {
   "cell_type": "code",
   "execution_count": null,
   "id": "29ef9491-f565-433a-8bc9-7422d9998322",
   "metadata": {},
   "outputs": [],
   "source": [
    "sales_dec = dated_sales[dated_sales.index.month == 12]\n",
    "sales_dec.describe()"
   ]
  },
  {
   "cell_type": "markdown",
   "id": "4b3bb020-3761-4d10-b510-17cf29f109cc",
   "metadata": {},
   "source": [
    "### 6. Analyze Unit Data"
   ]
  },
  {
   "cell_type": "code",
   "execution_count": null,
   "id": "11f0a561-6925-43b9-863d-cb519ef084b5",
   "metadata": {},
   "outputs": [],
   "source": [
    "dated_sales['Month'] = dated_sales.index.month\n",
    "sns.boxplot(x='Month', y='Unit', data=dated_sales, hue='Month', palette='colorblind')\n",
    "plt.title('Distribution of Units by Month')\n",
    "plt.show()\n",
    "sns.boxplot(x='Month', y='Sales', data=dated_sales, hue='Month', palette='Set2')\n",
    "plt.title('Distribution of Sales by Month')\n",
    "plt.show()"
   ]
  },
  {
   "cell_type": "markdown",
   "id": "6a718eb9-aab7-41b7-bcea-f648afde3ba8",
   "metadata": {},
   "source": [
    "### 7. Explore Monthly Plots and Analysis"
   ]
  },
  {
   "cell_type": "code",
   "execution_count": null,
   "id": "bfd95fcb-f638-42bc-89c1-2cbb759094ac",
   "metadata": {},
   "outputs": [],
   "source": [
    "dated_sales.groupby('Month')['Sales'].sum()"
   ]
  },
  {
   "cell_type": "code",
   "execution_count": null,
   "id": "ac997e1f-6b6c-433f-a2e5-9e03b1e3bdcd",
   "metadata": {},
   "outputs": [],
   "source": [
    "dated_sales.groupby('Month')['Unit'].sum()"
   ]
  },
  {
   "cell_type": "code",
   "execution_count": null,
   "id": "d33238e4-c81b-473f-b5da-8f7c6519b7c3",
   "metadata": {},
   "outputs": [],
   "source": [
    "grouped_sales = dated_sales.groupby('Month')['Sales'].sum().reset_index()\n",
    "sns.barplot(x='Month', y='Sales', data=grouped_sales, hue='Month', palette='Set2')\n",
    "plt.show()"
   ]
  },
  {
   "cell_type": "code",
   "execution_count": null,
   "id": "d305cdf7-e40a-4c77-81bb-fc3bc5386dbf",
   "metadata": {},
   "outputs": [],
   "source": [
    "grouped_units = dated_sales.groupby('Month')['Unit'].sum().reset_index()\n",
    "sns.barplot(x='Month', y='Unit', data=grouped_units, hue='Month', palette='colorblind')\n",
    "plt.show()"
   ]
  },
  {
   "cell_type": "code",
   "execution_count": null,
   "id": "39c65636-af8e-4a5b-8dde-3fa9d6e872c7",
   "metadata": {},
   "outputs": [],
   "source": [
    "sns.lineplot(x='Month', y='Sales', data=dated_sales)\n",
    "plt.title('Consolidated Sales Over 3-Month Span')\n",
    "plt.show()"
   ]
  },
  {
   "cell_type": "markdown",
   "id": "7ef8203c-586c-4143-9cf4-cd90c56edd81",
   "metadata": {},
   "source": [
    "### 8. Analyze Statewise Sales in the United States"
   ]
  },
  {
   "cell_type": "code",
   "execution_count": null,
   "id": "e48fad4c-ea5a-4f58-ae54-eb0c2bb59fde",
   "metadata": {},
   "outputs": [],
   "source": [
    "state_sales = dated_sales.groupby('State')[['Unit', 'Sales']].sum().reset_index()\n",
    "display(state_sales)"
   ]
  },
  {
   "cell_type": "code",
   "execution_count": null,
   "id": "ef6caf3c-71c5-4206-acab-615507afc984",
   "metadata": {},
   "outputs": [],
   "source": [
    "sns.barplot(x='State', y='Sales', data=state_sales, hue='State', palette='Set2')\n",
    "plt.title('Total Sales by State')\n",
    "plt.show()\n",
    "\n",
    "sns.barplot(x='State', y='Unit', data=state_sales, hue='State', palette='colorblind')\n",
    "plt.title('Total Units Sold by State')\n",
    "plt.show()"
   ]
  },
  {
   "cell_type": "markdown",
   "id": "a549dd1f-38a2-44cc-8c86-95eeac42d00e",
   "metadata": {},
   "source": [
    "### 9. Conduct Groupwise Analysis"
   ]
  },
  {
   "cell_type": "code",
   "execution_count": null,
   "id": "23f0d087-ef08-4146-a5f5-f2f966c979ec",
   "metadata": {},
   "outputs": [],
   "source": [
    "group_sales = dated_sales.groupby('Group')[['Unit', 'Sales']].sum().reset_index()\n",
    "display(group_sales)"
   ]
  },
  {
   "cell_type": "code",
   "execution_count": null,
   "id": "b9f09f0f-e1b2-48c7-8f08-7411a55a2032",
   "metadata": {},
   "outputs": [],
   "source": [
    "sns.lineplot(x='Date', y='Sales', hue='Group', data=dated_sales, errorbar=None)\n",
    "plt.title('Sales by Group')\n",
    "plt.show()"
   ]
  },
  {
   "cell_type": "code",
   "execution_count": null,
   "id": "057500e9-05af-4660-8c1f-95a7d7fa2108",
   "metadata": {},
   "outputs": [],
   "source": [
    "sns.barplot(x='Group', y='Sales', hue='Group', palette='Set2', data=group_sales)\n",
    "plt.title('Total Sales by Group')\n",
    "plt.show()\n",
    "\n",
    "sns.barplot(x='Group', y='Unit', hue='Group', palette='colorblind', data=group_sales)\n",
    "plt.title('Total Units Sold by Group')\n",
    "plt.show()"
   ]
  },
  {
   "cell_type": "markdown",
   "id": "73fc84ea-2298-4edf-bd2f-f972eb36b083",
   "metadata": {},
   "source": [
    "### 10. Explore Timewise Analysis"
   ]
  },
  {
   "cell_type": "code",
   "execution_count": null,
   "id": "339c8ba7-0475-4943-a340-502e980942b3",
   "metadata": {},
   "outputs": [],
   "source": [
    "dated_sales2 = dated_sales.reset_index()\n",
    "sns.lineplot(x='Date', y='Sales', hue='Time', palette='Set2', data=dated_sales2, errorbar=None)\n",
    "plt.title('Total Sales by Time of Day')\n",
    "plt.show()\n",
    "sns.lineplot(x='Date', y='Unit', hue='Time', palette='colorblind', data=dated_sales2, errorbar=None)\n",
    "plt.title('Total Units Sold by Time of Day')\n",
    "plt.show()"
   ]
  },
  {
   "cell_type": "code",
   "execution_count": null,
   "id": "ce8edfc8-6f5c-4a49-89e3-1343d92ec745",
   "metadata": {},
   "outputs": [],
   "source": [
    "sales_time = dated_sales.groupby('Time')[['Unit', 'Sales']].sum().reset_index()\n",
    "display(sales_time)"
   ]
  },
  {
   "cell_type": "code",
   "execution_count": null,
   "id": "664ac6ad-ba45-49b0-93a7-0feaac73a0de",
   "metadata": {},
   "outputs": [],
   "source": [
    "sns.barplot(x='Time', y='Unit', hue='Time', palette='colorblind', data=sales_time)\n",
    "plt.show()\n",
    "sns.barplot(x='Time', y='Sales', hue='Time', palette='Set2', data=sales_time)\n",
    "plt.show()"
   ]
  },
  {
   "cell_type": "code",
   "execution_count": null,
   "id": "d25a0728-9e71-4365-aff3-b9422a4581bc",
   "metadata": {},
   "outputs": [],
   "source": []
  }
 ],
 "metadata": {
  "kernelspec": {
   "display_name": "Python [conda env:base] *",
   "language": "python",
   "name": "conda-base-py"
  },
  "language_info": {
   "codemirror_mode": {
    "name": "ipython",
    "version": 3
   },
   "file_extension": ".py",
   "mimetype": "text/x-python",
   "name": "python",
   "nbconvert_exporter": "python",
   "pygments_lexer": "ipython3",
   "version": "3.12.7"
  }
 },
 "nbformat": 4,
 "nbformat_minor": 5
}
